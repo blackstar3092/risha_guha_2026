{
 "cells": [
  {
   "cell_type": "raw",
   "id": "54b377fc",
   "metadata": {
    "vscode": {
     "languageId": "raw"
    }
   },
   "source": [
    "---\n",
    "layout: post\n",
    "title: Grading Issues\n",
    "description: All My Grading Issues for Sprint 1\n",
    "permalink: /sprint/1/grading\n",
    "menu: nav/sprint_1.html\n",
    "toc: true\n",
    "comments: true\n",
    "---"
   ]
  },
  {
   "cell_type": "markdown",
   "id": "caf93424",
   "metadata": {
    "vscode": {
     "languageId": "plaintext"
    }
   },
   "source": [
    "## Teacher Trio Review: 8/20/2025 \n",
    "\n",
    "[GitHub Issue](https://github.com/blackstar3092/innovators-pages/issues/3)\n",
    "\n",
    "<img src=\"{{ site.baseurl }}/images/00_rg_imgs/sprint1/peer.png\" alt=\"Grading Issue 1\">\n",
    "\n",
    "\n",
    "## One-On-One Retrospective Review: 8/25/2025\n",
    "\n",
    "[GitHub Issue](https://github.com/blackstar3092/innovators-pages/issues/19)\n",
    "\n",
    "<img src=\"{{ site.baseurl }}/images/00_rg_imgs/sprint1/grade2.png\" alt=\"Grading Issue 2\">\n"
   ]
  }
 ],
 "metadata": {
  "language_info": {
   "name": "python"
  }
 },
 "nbformat": 4,
 "nbformat_minor": 5
}
