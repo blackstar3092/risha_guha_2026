{
 "cells": [
  {
   "cell_type": "raw",
   "id": "54b377fc",
   "metadata": {
    "vscode": {
     "languageId": "raw"
    }
   },
   "source": [
    "---\n",
    "layout: post\n",
    "title: Agile Methodology and Manifesto Evidence\n",
    "description: Our Team and Evidence of Collaboration\n",
    "permalink: /sprint/1/agile\n",
    "menu: nav/sprint_1.html\n",
    "toc: true\n",
    "comments: true\n",
    "---"
   ]
  },
  {
   "cell_type": "markdown",
   "id": "caf93424",
   "metadata": {
    "vscode": {
     "languageId": "plaintext"
    }
   },
   "source": [
    "## Agile Setup\n",
    "\n",
    "This sprint, our team applied **Agile methodology** to collaboratively build our Solitaire game.  \n",
    "Instead of trying to finish everything in one go, we worked in **short iterations**—building a feature, testing it, and refining it based on feedback.  \n",
    "\n",
    "The Agile Manifesto emphasizes **collaboration, responding to change, and working software over documentation**. Our process reflected that: each member took on a role and contributed through frequent commits, peer reviews, and shared debugging sessions.\n",
    "\n",
    "\n",
    "## Team Structure\n",
    "\n",
    "| Role                   | Name     | Repo Location                                     | Stream                | Repo Name |\n",
    "|------------------------|----------|---------------------------------------------------|-----------------------|-----------|\n",
    "| Scrum Master           | Risha G  | github.com/blackstar3092/student                  | upstream (OCS fork)   | student   |\n",
    "| Assistant Scrum Master | Anvay V  | github.com/CyberLord09/student                    | downstream (fork)     | student   |\n",
    "| Scrummer               | Ruta S   | github.com/ruta-sir/student                       | downstream (fork)     | student   |\n",
    "| Scrummer               | Vibha M  | github.com/vibha1019/student                      |                       |           |\n",
    "| Scrummer               | Aadi B   | github.com/aadibhat09/student                     | downstream (fork)     | student   |\n",
    "| Scrummer               | Neil C   | github.com/neil9674/student                       | downstream (fork)     | student   |\n",
    "\n",
    "---\n"
   ]
  },
  {
   "cell_type": "markdown",
   "id": "60f4c2a0",
   "metadata": {},
   "source": [
    "## Iterative Prototyping Workflow\n",
    "\n",
    "We didn’t try to make a perfect Solitaire game on the first try. Instead, we used **iterative prototyping**:  \n",
    "\n",
    "1. **Prototype 1:** Basic card shuffling and rendering.  \n",
    "2. **Prototype 2:** Added rules for moves and a win condition.  \n",
    "3. **Prototype 3:** Integrated feedback, UI polish, and debugging.  \n",
    "\n",
    "At each stage, we tested in pairs, logged peer review notes, and made joint commits to keep everyone in sync.  "
   ]
  },
  {
   "cell_type": "markdown",
   "id": "b6268722",
   "metadata": {},
   "source": [
    "## Visual: Agile Sprint Flow\n",
    "\n",
    "```mermaid\n",
    "flowchart TD\n",
    "    A[Backlog: Solitaire Features] --> B[Prototype 1: Card Shuffling]\n",
    "    B --> C[Peer Review & Feedback]\n",
    "    C --> D[Prototype 2: Rules + Moves]\n",
    "    D --> E[Playtesting + Feedback]\n",
    "    E --> F[Prototype 3: UI + Debugging]\n",
    "    F --> G[Final Sprint Review]\n",
    "```"
   ]
  },
  {
   "cell_type": "markdown",
   "id": "1d8c14d8",
   "metadata": {
    "vscode": {
     "languageId": "raw"
    }
   },
   "source": [
    "## Manifesto Evidence\n",
    "\n",
    "**Peer Review Logs:** We reviewed each other's rubrics and ideas. This prevented bugs and ensured consistent coding style.\n",
    "\n",
    "<img src=\"{{ site.baseurl }}/images/00_rg_imgs/sprint1/peer.png\" alt=\"Peer Review\">\n",
    "\n",
    "**Joint Commits:** Features like the shuffle function and rule-checking were developed collaboratively, with commits authored by multiple teammates. Screenshots of GitHub commits, pull requests, and collaborative coding sessions (Live Share) serve as evidence of our teamwork.\n",
    "\n",
    "<img src=\"{{ site.baseurl }}/images/00_rg_imgs/sprint1/commit.png\" alt=\"Joint Commits\">\n"
   ]
  },
  {
   "cell_type": "markdown",
   "id": "77f9ba56",
   "metadata": {
    "vscode": {
     "languageId": "raw"
    }
   },
   "source": [
    "## Reflection\n",
    "\n",
    "Working with others through Agile gave me new insights into Learning Experience Design (LxD):\n",
    "\n",
    "**Frequent Feedback Loops:** Instead of waiting until the end, feedback came early. This helped us spot design flaws quickly and adapt our plan.\n",
    "\n",
    "**Shared Ownership:** By doing pair reviews and joint commits, I learned how different coding styles can be merged into one consistent project.\n",
    "\n",
    "**Iterative Mindset:** I realized that Agile is about building usable versions often, then refining them through collaboration.\n",
    "\n",
    "Overall, collaboration shifted my approach from “working alone on a perfect product” to “building together, learning from mistakes, and improving step by step.” This mindset will help me in future LxD projects because feedback and iteration are at the core of designing meaningful learning experiences."
   ]
  }
 ],
 "metadata": {
  "language_info": {
   "name": "python"
  }
 },
 "nbformat": 4,
 "nbformat_minor": 5
}
