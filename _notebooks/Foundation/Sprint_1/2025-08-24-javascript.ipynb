{
 "cells": [
  {
   "cell_type": "raw",
   "id": "54b377fc",
   "metadata": {
    "vscode": {
     "languageId": "raw"
    }
   },
   "source": [
    "---\n",
    "layout: post\n",
    "title: JavaScript Learnings and AI Evidence\n",
    "description: What I Learned about JavaScript and How AI Helped Me\n",
    "permalink: /sprint/1/javascript\n",
    "menu: nav/sprint_1.html\n",
    "toc: true\n",
    "comments: true\n",
    "---"
   ]
  },
  {
   "cell_type": "markdown",
   "id": "caf93424",
   "metadata": {
    "vscode": {
     "languageId": "plaintext"
    }
   },
   "source": [
    "## Overview\n",
    "\n",
    "This sprint I deepened my understanding of **JavaScript frontend basics** and **Object-Oriented Programming (OOP)** through our Solitaire game project. By working with classes, encapsulation, inheritance, and composition, I learned how JavaScript structures can model real-world rules.  \n",
    "\n",
    "Alongside my coding, I also experimented with **AI-assisted development**. I used prompts to generate starting points for methods, but I also made corrections when the output wasn’t accurate or didn’t match our team’s design.  \n",
    "\n",
    "This blog highlights both my **code learnings** and **AI evidence in work**.\n",
    "\n",
    "---\n",
    "\n",
    "## JavaScript Frontend Basics\n",
    "\n",
    "One of my main tasks was translating OOP concepts into working **UI components** that players could interact with.\n",
    "\n",
    "### Example: Card Class\n",
    "\n",
    "```js\n",
    "class Card {\n",
    "    constructor(suit, rank, color, value) {\n",
    "        this.suit = suit;     // '♠', '♣', '♦', '♥'\n",
    "        this.rank = rank;     // 'A', '2', ... 'K'\n",
    "        this.color = color;   // 'red' or 'black'\n",
    "        this.value = value;   // 1..13\n",
    "        this.faceUp = false;\n",
    "        this.id = `${rank}${suit}`;\n",
    "    }\n",
    "\n",
    "    describe() {\n",
    "        return `${this.rank} of ${this.suit} (${this.color})`;\n",
    "    }\n",
    "}\n",
    "```\n",
    "\n",
    "**What I learned:** Every card becomes an independent object with properties and helper methods.\n",
    "\n",
    "**Frontend connection:** These card objects map directly to DOM elements in the UI (<div>s styled with CSS)."
   ]
  },
  {
   "cell_type": "markdown",
   "id": "e5c90a65",
   "metadata": {},
   "source": [
    "### Example: Encapsulation in Piles\n",
    "\n",
    "```js\n",
    "class Pile {\n",
    "    constructor(type) {\n",
    "        this.type = type;\n",
    "        this.cards = [];\n",
    "    }\n",
    "\n",
    "    push(card) { this.cards.push(card); }\n",
    "    pop(n = 1) { return this.cards.splice(-n, n); }\n",
    "    top() { return this.cards[this.cards.length - 1]; }\n",
    "\n",
    "    get isEmpty() {\n",
    "        return this.cards.length === 0;\n",
    "    }\n",
    "}\n",
    "```\n",
    "\n",
    "**Lesson learned:** Keep data private and only allow access through controlled methods like push() and pop().\n",
    "**Impact on UI:** This made it easier to prevent invalid moves when dragging and dropping cards."
   ]
  },
  {
   "cell_type": "markdown",
   "id": "93d089ad",
   "metadata": {},
   "source": [
    "## AI Evidence in Work\n",
    "\n",
    "AI played a role in my learning, but not as the final answer.\n",
    "\n",
    "- It provided helpful starting points, like suggesting structures or example methods.\n",
    "- I made fine adjustments, improving the code so it worked correctly in our Solitaire project and matched our team’s style.\n",
    "\n",
    "This combination made me faster while still ensuring I understood the logic and details.\n",
    "\n",
    "## Reflection\n",
    "\n",
    "The biggest lesson I learned in JavaScript this sprint is that objects define behavior. Seeing OOP principles directly control Solitaire’s gameplay solidified my prior knowledge of this concept.\n",
    "\n",
    "AI was a helpful assistant for brainstorming and scaffolding, but I learned the most when I adjusted its outputs myself. Those small refinements made me think critically about syntax, rules, and design—helping me grow as a coder.\n",
    "\n",
    "In the end, combining **JS fundamentals**, frontend interactivity, and **AI assistance** gave me both a working game and a deeper understanding of how to design maintainable code."
   ]
  }
 ],
 "metadata": {
  "language_info": {
   "name": "python"
  }
 },
 "nbformat": 4,
 "nbformat_minor": 5
}
