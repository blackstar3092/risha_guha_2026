{
 "cells": [
  {
   "cell_type": "raw",
   "id": "54b377fc",
   "metadata": {
    "vscode": {
     "languageId": "raw"
    }
   },
   "source": [
    "---\n",
    "layout: post\n",
    "title: Learning Experience Design with Feedback and Iteration\n",
    "description: The Design Process and How We Improved Our Game\n",
    "permalink: /sprint/1/lxd\n",
    "menu: nav/sprint_1.html\n",
    "toc: true\n",
    "comments: true\n",
    "---"
   ]
  },
  {
   "cell_type": "markdown",
   "id": "caf93424",
   "metadata": {
    "vscode": {
     "languageId": "plaintext"
    }
   },
   "source": [
    "## Overview\n",
    "\n",
    "Learning Experience Design (LxD) is about structuring our work so that learning comes not just from *success* but also from *mistakes*. In our Solitaire project and JavaScript OOP coding lesson, we designed the sprint around a cycle of **diagnostic evaluation, formative peer review, and summative reflection**.  \n",
    "\n",
    "We also actively gathered feedback from our target audience—other CSSE students—to shape how the game was built and refined. Every bug, fix, and redesign became part of the learning process.\n",
    "\n",
    "## Learning Through Mistakes\n",
    "\n",
    "The most valuable lessons this week came from bugs in our Solitaire prototype:\n",
    "\n",
    "- **Bug Logs:** For example, early on our shuffle function returned duplicate cards. We logged this issue in GitHub.  \n",
    "- **Fix Notes:** After debugging, we adjusted the array handling so each card appeared exactly once.  \n",
    "- **Before/After Comparison:**  \n",
    "  - *Before*: Decks sometimes contained multiple kings or missing cards.  \n",
    "  - *After*: Proper 52-card deck with consistent rules.  \n",
    "\n",
    "<img src=\"{{ site.baseurl }}/images/00_rg_imgs/sprint1/bug.png\" alt=\"Bug Log\">\n",
    "\n",
    "This mistake taught me that **testing edge cases early** saves time later and reinforced why Agile emphasizes “working software” at every stage.\n",
    "\n",
    "## Evaluation Timeline & Process\n",
    "\n",
    "We structured our sprint evaluations in three phases, following both **self-diagnostic** and **summative evaluation principles**:\n",
    "\n",
    "### 🟢 Start of Sprint – Diagnostic Phase\n",
    "- **Individual Diagnostic:** Each team member completed a self-check and shared their coding baseline with the teacher.  \n",
    "- **Purpose:** Establish starting point and individual learning goals before beginning Solitaire development.  \n",
    "\n",
    "📋 **Evidence:** Notes from initial skill assessment + teacher feedback.\n",
    "\n",
    "### 🟡 During Sprint – Formative Phase\n",
    "- **Peer Review:** We interviewed CSSE students to gather feedback about our lesson\n",
    "- **Purpose:** Continuous improvement, catching mistakes early, and collaborative learning.  \n",
    "- **Example:** Many students requested a \"How-To-Play\" popup, which we are working on incorporating into our game. \n",
    "\n",
    "<img src=\"{{ site.baseurl }}/images/00_rg_imgs/sprint1/feedback.png\" alt=\"Peer Feedback\">\n",
    "\n",
    "\n",
    "### 🔴 End of Sprint – Summative Phase\n",
    "- **Self-Assessment:** I wrote a reflection comparing my starting point to my progress.  \n",
    "- **Teacher Evaluation:** Oral discussion with the teacher about strengths (debugging persistence) and areas to grow (efficiency in OOP).  \n",
    "- **Documentation:** All bug logs, peer review notes, and before/after code were captured here as baseline evidence for the next project.  \n",
    "\n",
    "## Reflection\n",
    "\n",
    "The mistake that taught me the most was the lack of transparency on how the game was played in our lessons. It forced us to slow down and think about all use cases instead of assuming that everyone will understand our game.  \n",
    "\n",
    "Working through diagnostic → formative → summative phases showed me that learning isn’t a straight line. Each evaluation type offered a different lens:  \n",
    "- **Diagnostic** made me aware of my baseline.  \n",
    "- **Formative** gave me peer insights I wouldn’t have caught alone.  \n",
    "- **Summative** forced me to articulate how I grew and what I still need to work on.  \n",
    "\n",
    "Overall, this sprint reinforced that **mistakes are checkpoints** that make both the game and my coding skills stronger.  \n",
    "\n"
   ]
  }
 ],
 "metadata": {
  "language_info": {
   "name": "python"
  }
 },
 "nbformat": 4,
 "nbformat_minor": 5
}
