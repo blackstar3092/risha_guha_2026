{
 "cells": [
  {
   "cell_type": "raw",
   "id": "54b377fc",
   "metadata": {
    "vscode": {
     "languageId": "raw"
    }
   },
   "source": [
    "---\n",
    "layout: post\n",
    "title: Tools Setup 2025-26\n",
    "description: My Journey with Tools Setup and Refresh\n",
    "permalink: /sprint/1/tools\n",
    "menu: nav/sprint_1.html\n",
    "toc: true\n",
    "comments: true\n",
    "---"
   ]
  },
  {
   "cell_type": "markdown",
   "id": "caf93424",
   "metadata": {
    "vscode": {
     "languageId": "plaintext"
    }
   },
   "source": [
    "# Tools Setup 2025-26\n",
    "\n",
    "## Overview\n",
    "\n",
    "This year’s setup process was smoother because I already had most of my tools configured from last year. I was already familiar with **GitHub, VSCode, and WSL**, and I had previously worked with Linux commands for installing dependencies and managing repositories. The main update was moving to **WSL Ubuntu 24.04** (from 22.04), which went smoothly thanks to my prior experience.  \n",
    "\n",
    "The most important change in workflow this year was how we connected to the course repository. Instead of using the **OCS repository as a template** like last year, we had to **fork from the upstream OCS repo** and then clone our fork. This ensures that we can pull updates from upstream while still having our own repository for commits and customization. Once I made this adjustment, the GitHub integration with VSCode worked as expected.  \n",
    "\n",
    "I verified that the setup worked by running the **Makefile**, confirming my environment builds properly and that my site runs both on **localhost** and when deployed to **GitHub Pages**.\n",
    "\n",
    "<img src=\"{{ site.baseurl }}/images/00_rg_imgs/sprint1/forked.png\" alt=\"Forked Repository\">\n",
    "\n",
    "<img src=\"{{ site.baseurl }}/images/00_rg_imgs/sprint1/make.png\" alt=\"Successful Make\">"
   ]
  },
  {
   "cell_type": "markdown",
   "id": "60f4c2a0",
   "metadata": {},
   "source": [
    "## Easy Access Shell Command Descriptions:\n",
    "\n",
    "<ul>\n",
    "  <li><b>wsl</b> – access Windows Subsystem for Linux (Ubuntu 24.04)</li>\n",
    "  <li><b>cd</b> – change directory</li>\n",
    "  <li><b>mkdir</b> – create directory</li>\n",
    "  <li><b>echo</b> – print text</li>\n",
    "  <li><b>sudo</b> – run commands with elevated privileges</li>\n",
    "  <li><b>apt</b> – install or manage packages on Linux</li>\n",
    "  <li><b>git</b> – version control system to manage repositories</li>\n",
    "  <li><b>code</b> – open VSCode from the terminal</li>\n",
    "  <li><b>ls</b> – list files and directories</li>\n",
    "  <li><b>rm</b> – remove files or directories</li>\n",
    "  <li><b>cp</b> – copy files or directories</li>\n",
    "  <li><b>mv</b> – move or rename files or directories</li>\n",
    "  <li><b>find</b> – search for files or directories</li>\n",
    "  <li><b>grep</b> – search for text patterns inside files</li>\n",
    "</ul>"
   ]
  },
  {
   "cell_type": "markdown",
   "id": "b6268722",
   "metadata": {},
   "source": [
    "## Version Control \n",
    "\n",
    "**GitHub and VSCode Setup**\n",
    "- GitHub is used for remote storage of repositories, while Git tracks version control locally.  \n",
    "- I forked the **upstream OCS repo**, then cloned my fork into WSL.  \n",
    "- VSCode with GitLens helps me view commit history, differences, and branches.  \n",
    "\n",
    "<img src=\"{{ site.baseurl }}/images/00_rg_imgs/sprint1/gitlens.png\" alt=\"Git Commits\">\n",
    "\n",
    "**Files on Local Machine**\n",
    "- Cloned repositories are stored inside WSL and can be opened directly in VSCode.  \n",
    "- Navigation is done with standard Linux shell commands.  \n",
    "\n",
    "**Updating GitHub**\n",
    "- *Commit*: Save changes locally.  \n",
    "- *Push*: Send commits to my fork on GitHub.  \n",
    "- *Pull*: Sync changes from upstream or my remote fork.  \n",
    "\n",
    "**Running Makefile**\n",
    "- Running `make` ensures Ruby, Python, and Jekyll dependencies build correctly.  \n",
    "- Successfully running the Makefile means the local server (`localhost:4600`) mirrors what will be deployed."
   ]
  },
  {
   "cell_type": "markdown",
   "id": "1d8c14d8",
   "metadata": {
    "vscode": {
     "languageId": "raw"
    }
   },
   "source": [
    "## Localhost vs. Deployed Server and DNS\n",
    "\n",
    "- **Localhost**: Runs at `http://127.0.0.1:4600/risha_guha_2026`. Only visible to me.  \n",
    "- **Deployed GitHub Pages**: Runs at `https://blackstar3092.github.io/`. Publicly accessible after pushing commits.  \n",
    "\n",
    "## Tools Verification\n",
    "\n",
    "**Installed Versions**\n",
    "- git: 2.43.0  \n",
    "- ruby: 3.2.3  \n",
    "- python: 3.12.3  \n",
    "\n",
    "When setting up Ruby, I initially ran into a permissions issue. Running the install under a `venv` and with administrator permissions solved the problem.  \n",
    "\n",
    "## Reflection\n",
    "\n",
    "This week, I didn’t need to start from scratch because most of my toolchain was already in place. The biggest improvement in my workflow was understanding the difference between **forking from upstream vs. using a template**. Forking allows me to pull updates from the teacher’s repository, which keeps my work synced and prevents me from falling behind.  \n",
    "\n",
    "I also improved my confidence in verifying the setup by checking GitHub commits, confirming Makefile builds, and testing both localhost and deployed versions of my site. This makes my development process smoother and more professional."
   ]
  }
 ],
 "metadata": {
  "language_info": {
   "name": "python"
  }
 },
 "nbformat": 4,
 "nbformat_minor": 5
}
