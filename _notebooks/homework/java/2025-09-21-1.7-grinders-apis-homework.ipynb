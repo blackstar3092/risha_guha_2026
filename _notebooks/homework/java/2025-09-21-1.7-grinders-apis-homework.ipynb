{
 "cells": [
  {
   "cell_type": "code",
   "execution_count": null,
   "metadata": {
    "vscode": {
     "languageId": "java"
    }
   },
   "outputs": [],
   "source": [
    "---\n",
    "title: Application Program Interface (API) and Libraries Homework\n",
    "description: Understanding Application Program Interfaces and Java Libraries - Homework\n",
    "layout: post\n",
    "type: hacks\n",
    "menu: nav/CSA_Nunits/csaunit1.html\n",
    "toc: true\n",
    "permalink: /csa/unit_01/1_7/homework\n",
    "---"
   ]
  },
  {
   "cell_type": "markdown",
   "metadata": {},
   "source": [
    "---\n",
    "\n",
    "## 🍿 Popcorn Hack #1: Using Documentation (5 minutes)\n",
    "\n",
    "**Task:** Use the Math class and ArrayList class based on their documentation.\n",
    "\n",
    "Complete the following:\n",
    "1. Use `Math.pow()` to calculate 3^4\n",
    "2. Use `Math.sqrt()` to find square root of 64\n",
    "3. Create an ArrayList of Strings\n",
    "4. Add 3 colors to the ArrayList\n",
    "5. Print the ArrayList size"
   ]
  },
  {
   "cell_type": "code",
   "execution_count": 1,
   "metadata": {
    "vscode": {
     "languageId": "java"
    }
   },
   "outputs": [
    {
     "name": "stdout",
     "output_type": "stream",
     "text": [
      "3^4 = 81.0\n",
      "sqrt(64) = 8.0\n",
      "Number of colors: 3\n"
     ]
    }
   ],
   "source": [
    "// Popcorn Hack #1: Complete this code\n",
    "\n",
    "import java.util.ArrayList;\n",
    "\n",
    "public class PopcornHack1 {\n",
    "    public static void main(String[] args) {\n",
    "        // TODO: Use Math.pow() to calculate 3^4\n",
    "        double threeToTheFourth = Math.pow(3, 4);\n",
    "        System.out.println(\"3^4 = \" + threeToTheFourth);\n",
    "\n",
    "        // TODO: Use Math.sqrt() to find square root of 64\n",
    "        double sqrt64 = Math.sqrt(64);\n",
    "        System.out.println(\"sqrt(64) = \" + sqrt64);\n",
    "\n",
    "        // TODO: Create ArrayList of Strings\n",
    "        ArrayList<String> colors = new ArrayList<>();\n",
    "\n",
    "        // TODO: Add 3 colors (\"red\", \"blue\", \"green\")\n",
    "        colors.add(\"red\");\n",
    "        colors.add(\"blue\");\n",
    "        colors.add(\"green\");\n",
    "\n",
    "        // TODO: Print the size\n",
    "        System.out.println(\"Number of colors: \" + colors.size());        \n",
    "    }\n",
    "}\n",
    "\n",
    "PopcornHack1.main(null);"
   ]
  },
  {
   "cell_type": "markdown",
   "metadata": {},
   "source": [
    "---\n",
    "\n",
    "## 🍿 Popcorn Hack #2: Attributes and Behaviors (5 minutes)\n",
    "\n",
    "**Task:** Create a `Book` class with attributes and behaviors.\n",
    "\n",
    "**Requirements:**\n",
    "\n",
    "**Attributes (3):**\n",
    "- `title` (String)\n",
    "- `author` (String)  \n",
    "- `pages` (int)\n",
    "\n",
    "**Behaviors (3 methods):**\n",
    "1. Constructor to set all attributes\n",
    "2. `displayInfo()` - print all book info\n",
    "3. `isLong()` - return true if pages > 300\n",
    "\n",
    "**Test:** Create a Book object and call all methods."
   ]
  },
  {
   "cell_type": "code",
   "execution_count": 6,
   "metadata": {
    "vscode": {
     "languageId": "java"
    }
   },
   "outputs": [
    {
     "ename": "UnresolvedReferenceException",
     "evalue": "Attempt to use definition snippet with unresolved references in Snippet:ClassKey(Book)#17-// Popcorn Hack #2: Complete the Book class\n\npublic class Book {\n    // TODO: Add 3 attributes (title, author, pages)\n    private String title;\n    private String author;\n    private int pages;\n\n    // TODO: Add constructor\n    \n    public Book(String title, String author, int pages) {\n        this.title = title;\n        this.author = author;\n        this.pages = pages;\n    }\n\n    // TODO: Add displayInfo() method\n    \n    public void displayInfo() {\n        System.out.println(\"Title:\" + title);\n        System.out.println(\"Author:\" + author);\n        System.out.println(\"Pages:\" + pages);\n    }\n\n    // TODO: Add isLong() method (returns true if pages > 300)\n    \n    public boolean isLong() {\n        return pages > 300;\n        isLong.displayInfo();\n        System.out.println(\"Is long? \" + isLong());\n    }\n}",
     "output_type": "error",
     "traceback": [
      "\u001b[1m\u001b[30m|   \u001b[1m\u001b[30m// Popcorn Hack #2: Complete the Book class\u001b[0m",
      "\u001b[1m\u001b[30m|   \u001b[1m\u001b[30m\u001b[0m",
      "\u001b[1m\u001b[30m|   \u001b[1m\u001b[30mpublic class Book {\u001b[0m",
      "\u001b[1m\u001b[30m|   \u001b[1m\u001b[30m    // TODO: Add 3 attributes (title, author, pages)\u001b[0m",
      "\u001b[1m\u001b[30m|   \u001b[1m\u001b[30m    private String title;\u001b[0m",
      "\u001b[1m\u001b[30m|   \u001b[1m\u001b[30m    private String author;\u001b[0m",
      "\u001b[1m\u001b[30m|   \u001b[1m\u001b[30m    private int pages;\u001b[0m",
      "\u001b[1m\u001b[30m|   \u001b[1m\u001b[30m\u001b[0m",
      "\u001b[1m\u001b[30m|   \u001b[1m\u001b[30m    // TODO: Add constructor\u001b[0m",
      "\u001b[1m\u001b[30m|   \u001b[1m\u001b[30m    \u001b[0m",
      "\u001b[1m\u001b[30m|   \u001b[1m\u001b[30m    public Book(String title, String author, int pages) {\u001b[0m",
      "\u001b[1m\u001b[30m|   \u001b[1m\u001b[30m        this.title = title;\u001b[0m",
      "\u001b[1m\u001b[30m|   \u001b[1m\u001b[30m        this.author = author;\u001b[0m",
      "\u001b[1m\u001b[30m|   \u001b[1m\u001b[30m        this.pages = pages;\u001b[0m",
      "\u001b[1m\u001b[30m|   \u001b[1m\u001b[30m    }\u001b[0m",
      "\u001b[1m\u001b[30m|   \u001b[1m\u001b[30m\u001b[0m",
      "\u001b[1m\u001b[30m|   \u001b[1m\u001b[30m    // TODO: Add displayInfo() method\u001b[0m",
      "\u001b[1m\u001b[30m|   \u001b[1m\u001b[30m    \u001b[0m",
      "\u001b[1m\u001b[30m|   \u001b[1m\u001b[30m    public void displayInfo() {\u001b[0m",
      "\u001b[1m\u001b[30m|   \u001b[1m\u001b[30m        System.out.println(\"Title:\" + title);\u001b[0m",
      "\u001b[1m\u001b[30m|   \u001b[1m\u001b[30m        System.out.println(\"Author:\" + author);\u001b[0m",
      "\u001b[1m\u001b[30m|   \u001b[1m\u001b[30m        System.out.println(\"Pages:\" + pages);\u001b[0m",
      "\u001b[1m\u001b[30m|   \u001b[1m\u001b[30m    }\u001b[0m",
      "\u001b[1m\u001b[30m|   \u001b[1m\u001b[30m\u001b[0m",
      "\u001b[1m\u001b[30m|   \u001b[1m\u001b[30m    // TODO: Add isLong() method (returns true if pages > 300)\u001b[0m",
      "\u001b[1m\u001b[30m|   \u001b[1m\u001b[30m    \u001b[0m",
      "\u001b[1m\u001b[30m|   \u001b[1m\u001b[30m    public boolean isLong() {\u001b[0m",
      "\u001b[1m\u001b[30m|   \u001b[1m\u001b[30m        return pages > 300;\u001b[0m",
      "\u001b[1m\u001b[30m|   \u001b[1m\u001b[30m        isLong.displayInfo();\u001b[0m",
      "\u001b[1m\u001b[30m|   \u001b[1m\u001b[30m        System.out.println(\"Is long? \" + isLong());\u001b[0m",
      "\u001b[1m\u001b[30m|   \u001b[1m\u001b[30m    }\u001b[0m",
      "\u001b[1m\u001b[30m|   \u001b[1m\u001b[30m}\u001b[0m",
      "\u001b[1m\u001b[31mUnresolved dependencies:\u001b[0m",
      "\u001b[1m\u001b[31m   - variable isLong\u001b[0m"
     ]
    }
   ],
   "source": [
    "// Popcorn Hack #2: Complete the Book class\n",
    "\n",
    "public class Book {\n",
    "    // TODO: Add 3 attributes (title, author, pages)\n",
    "    private String title;\n",
    "    private String author;\n",
    "    private int pages;\n",
    "\n",
    "    // TODO: Add constructor\n",
    "    \n",
    "    public Book(String title, String author, int pages) {\n",
    "        this.title = title;\n",
    "        this.author = author;\n",
    "        this.pages = pages;\n",
    "    }\n",
    "\n",
    "    // TODO: Add displayInfo() method\n",
    "    \n",
    "    public void displayInfo() {\n",
    "        System.out.println(\"Title:\" + title);\n",
    "        System.out.println(\"Author:\" + author);\n",
    "        System.out.println(\"Pages:\" + pages);\n",
    "    }\n",
    "\n",
    "    // TODO: Add isLong() method (returns true if pages > 300)\n",
    "    \n",
    "    public boolean isLong() {\n",
    "        return pages > 300;\n",
    "        isLong.displayInfo();\n",
    "        System.out.println(\"Is long? \" + isLong());\n",
    "    }\n",
    "}\n",
    "\n",
    "// TODO: Create a Book object and test all methods\n",
    "// Example: Book myBook = new Book(\"Java Basics\", \"John Doe\", 350);\n",
    "\n",
    "Book popcornHackBook = new Book(\"Popcorn Hack\", \"CSA\", 20);"
   ]
  },
  {
   "cell_type": "markdown",
   "metadata": {},
   "source": [
    "---\n",
    "\n",
    "## 📝 Homework Hack: Phone Class\n",
    "\n",
    "Create a `Phone` class that demonstrates **all concepts** from this lesson:\n",
    "- Libraries/Classes\n",
    "- Packages (use ArrayList from java.util)\n",
    "- Attributes\n",
    "- Behaviors\n",
    "\n",
    "### Requirements:\n",
    "\n",
    "**Attributes (4):**\n",
    "- `brand` (String)\n",
    "- `model` (String)\n",
    "- `batteryLevel` (int) - starts at 100\n",
    "- `contacts` (ArrayList<String>)\n",
    "\n",
    "**Behaviors (5 methods):**\n",
    "1. Constructor - sets brand and model, initializes empty contacts list\n",
    "2. `displayInfo()` - prints brand, model, and battery level\n",
    "3. `addContact(String name)` - adds name to contacts list\n",
    "4. `showContacts()` - prints all contacts\n",
    "5. `usePhone(int minutes)` - decreases battery by minutes used\n",
    "\n",
    "**Testing:**\n",
    "- Create 2 Phone objects\n",
    "- Add 3 contacts to each phone\n",
    "- Use phone for some minutes\n",
    "- Display all information\n",
    "\n",
    "### Grading:\n",
    "- Correct attributes (4 points)\n",
    "- Correct methods (5 points)\n",
    "- Proper use of ArrayList from java.util (3 points)\n",
    "- Complete testing (3 points)\n",
    "- **Total: 15 points**"
   ]
  },
  {
   "cell_type": "code",
   "execution_count": 17,
   "metadata": {
    "vscode": {
     "languageId": "java"
    }
   },
   "outputs": [],
   "source": [
    "// Homework Hack: Complete the Phone class\n",
    "\n",
    "import java.util.ArrayList;\n",
    "\n",
    "public class Phone {\n",
    "    // TODO: Add 4 attributes\n",
    "    \n",
    "    // TODO: Add constructor\n",
    "    \n",
    "    // TODO: Add displayInfo() method\n",
    "    \n",
    "    // TODO: Add addContact(String name) method\n",
    "    \n",
    "    // TODO: Add showContacts() method\n",
    "    \n",
    "    // TODO: Add usePhone(int minutes) method\n",
    "    \n",
    "}\n",
    "\n",
    "// Test your Phone class\n",
    "public class PhoneTest {\n",
    "    public static void main(String[] args) {\n",
    "        // TODO: Create 2 Phone objects\n",
    "        \n",
    "        // TODO: Add 3 contacts to each\n",
    "        \n",
    "        // TODO: Use phones for some minutes\n",
    "        \n",
    "        // TODO: Display all information\n",
    "        \n",
    "    }\n",
    "}\n",
    "\n",
    "// PhoneTest.main(null);"
   ]
  }
 ],
 "metadata": {
  "kernelspec": {
   "display_name": "java (JJava/j!)",
   "language": "java",
   "name": "jbang-jjava"
  },
  "language_info": {
   "codemirror_mode": "java",
   "file_extension": ".jshell",
   "mimetype": "text/x-java-source",
   "name": "Java",
   "pygments_lexer": "java",
   "version": "21.0.8+9-Ubuntu-0ubuntu124.04.1"
  }
 },
 "nbformat": 4,
 "nbformat_minor": 2
}
