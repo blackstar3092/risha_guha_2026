{
  "cells": [
    {
      "cell_type": "raw",
      "metadata": {
        "vscode": {
          "languageId": "raw"
        }
      },
      "source": [
        "---\n",
        "layout: post\n",
        "toc: true\n",
        "title: Method Signatures — Homework (1.9)\n",
        "menu: nav/CSA_Nunits/csaunit1.html\n",
        "permalink: /csa/unit_01/1_9_hw\n",
        "author: Aashray, Sai, Manas\n",
        "---"
      ]
    },
    {
      "cell_type": "markdown",
      "metadata": {},
      "source": [
        "## AP CSA 1.9 — Method Signatures: Homework\n",
        "\n",
        "Complete all parts. Submit this executed notebook on GitHub Pages and answer MCQs on the Google Form.\n"
      ]
    },
    {
      "cell_type": "markdown",
      "metadata": {},
      "source": [
        "### Popcorn Hack: Write and test max overloads\n",
        "Instructions: Write two overloaded methods named max that each return the larger of two numbers.\n",
        "\n",
        "One should accept two int values.\n",
        "\n",
        "The other should accept two double values.\n",
        "\n",
        "Then, test both versions in the main method."
      ]
    },
    {
      "cell_type": "code",
      "execution_count": 4,
      "metadata": {
        "vscode": {
          "languageId": "java"
        }
      },
      "outputs": [
        {
          "name": "stdout",
          "output_type": "stream",
          "text": [
            "9\n",
            "-2\n",
            "3.5\n",
            "2.0\n"
          ]
        }
      ],
      "source": [
        "public class PopcornMax {\n",
        "    // TODO: write int version of max\n",
        "\n",
        "    public static int max(int a, int b) {\n",
        "        return (a >= b) ? a : b;\n",
        "    }\n",
        "\n",
        "    // TODO: write double version of max\n",
        "\n",
        "    public static double max(double a, double b) {\n",
        "        return (a >= b) ? a : b;\n",
        "    }\n",
        "\n",
        "    public static void main(String[] args) {\n",
        "        System.out.println(max(3, 9));      // expected: 9\n",
        "        System.out.println(max(-2, -7));    // expected: -2\n",
        "        System.out.println(max(3.5, 2.9));  // expected: 3.5\n",
        "        System.out.println(max(2, 2.0));    // should call double version → 2.0\n",
        "    }\n",
        "}\n",
        "\n",
        "PopcornMax.main(null)\n"
      ]
    },
    {
      "cell_type": "markdown",
      "metadata": {},
      "source": [
        "### Popcorn Hack 1 Answer:\n",
        "\n",
        "```java\n",
        "public class PopcornMax {\n",
        "    // int overload\n",
        "    public static int max(int a, int b) {\n",
        "        return a >= b ? a : b;\n",
        "    }\n",
        "\n",
        "    // double overload\n",
        "    public static double max(double a, double b) {\n",
        "        return a >= b ? a : b;\n",
        "    }\n",
        "\n",
        "    public static void main(String[] args) {\n",
        "        System.out.println(max(3, 9));      // 9\n",
        "        System.out.println(max(-2, -7));    // -2\n",
        "        System.out.println(max(3.5, 2.9));  // 3.5\n",
        "        System.out.println(max(2, 2.0));    // 2.0  (int 2 promoted to double → calls max(double,double))\n",
        "    }\n",
        "}\n",
        "```"
      ]
    },
    {
      "cell_type": "markdown",
      "metadata": {},
      "source": [
        "### Popcorn Hack: Overload print for int and String\n",
        "Instructions: Implement two overloaded print methods — one that accepts an int and prints int:<n> and another that accepts String and prints str:<s>. Test with mixed types.\n"
      ]
    },
    {
      "cell_type": "code",
      "execution_count": 5,
      "metadata": {
        "vscode": {
          "languageId": "java"
        }
      },
      "outputs": [
        {
          "name": "stdout",
          "output_type": "stream",
          "text": [
            "Integer:42\n",
            "String:hello\n",
            "String:A!\n"
          ]
        }
      ],
      "source": [
        "public class PopcornPrint {\n",
        "    // TODO: write print(int n)\n",
        "\n",
        "    public static void print(int n) {\n",
        "        System.out.println(\"Integer:\" + n);\n",
        "    }\n",
        "\n",
        "    // TODO: write print(String s)\n",
        "\n",
        "    public static void print(String s) {\n",
        "        System.out.println(\"String:\" + s);\n",
        "    }\n",
        "\n",
        "    public static void main(String[] args) {\n",
        "        print(42);          // expected: int:42\n",
        "        print(\"hello\");     // expected: str:hello\n",
        "        print('A' + \"!\");   // char + String → String → expected: str:A!\n",
        "    }\n",
        "}\n",
        "\n",
        "PopcornPrint.main(null)"
      ]
    },
    {
      "cell_type": "markdown",
      "metadata": {},
      "source": [
        "### Popcorn Hack 2 Answer:\n",
        "```java\n",
        "public class PopcornPrint {\n",
        "    static void print(int n) {\n",
        "        System.out.println(\"int:\" + n);\n",
        "    }\n",
        "\n",
        "    static void print(String s) {\n",
        "        System.out.println(\"str:\" + s);\n",
        "    }\n",
        "\n",
        "    public static void main(String[] args) {\n",
        "        print(42);          // int:42\n",
        "        print(\"hello\");     // str:hello\n",
        "        print('A' + \"!\");   // str:A!\n",
        "    }\n",
        "}\n",
        "```"
      ]
    },
    {
      "cell_type": "markdown",
      "metadata": {},
      "source": [
        "### MCQs\n",
        "1) Which pair is a valid overload?\n",
        "- A) `int f(int a)` and `int f(int x)`\n",
        "- B) `int f(int a)` and `double f(int a)`\n",
        "- C) `int f(int a)` and `double f(double a)`\n",
        "- D) `int f(int a, int b)` and `int f(int a, int b)`\n",
        "\n",
        "2) Which is the AP CSA notion of a method signature?\n",
        "- A) `public static int max(int a, int b)`\n",
        "- B) `max(int, int)`\n",
        "- C) `max(int a, int b) throws Exception`\n",
        "- D) `max(int, double)`\n",
        "\n",
        "3) With the overloads `void p(int x)` and `void p(double x)`, what prints?\n",
        "```java\n",
        "p(5);\n",
        "p(5.0);\n",
        "```\n",
        "- A) `int`, `double`\n",
        "- B) `double`, `double`\n",
        "- C) `int`, `int`\n",
        "- D) Compile error\n",
        "\n",
        "4) Which call is ambiguous with only these two methods?\n",
        "```java\n",
        "void h(long x) {}\n",
        "void h(float x) {}\n",
        "```\n",
        "- A) `h(5)`\n",
        "- B) `h(5.0)`\n",
        "- C) `h(5f)`\n",
        "- D) None are ambiguous\n",
        "\n",
        "5) Which statement is TRUE?\n",
        "- A) Parameter names affect the method signature.\n",
        "- B) Return type affects the method signature.\n",
        "- C) Access modifiers affect the method signature.\n",
        "- D) Overloading requires different parameter lists.\n"
      ]
    },
    {
      "cell_type": "markdown",
      "metadata": {},
      "source": [
        "### Short answer\n",
        "- Explain why `int sum(int a, int b)` and `double sum(int a, int b)` cannot both exist.\n",
        "- In one sentence, distinguish parameters vs arguments.\n",
        "\n",
        "\n",
        "1. `int sum(int a, int b)` and `double sum(int a, int b)` cannot both exist because this would overload the Java methods by return type. Since both have the same parameter list (`int a, int b`), the compiler would not be able to determine which one to call so the overall program would fail.\n",
        "2. Parameters are placeholders that are defined (similarly to variables), and arguments are the values passed into these parameters when the method is called. "
      ]
    },
    {
      "cell_type": "markdown",
      "metadata": {},
      "source": [
        "### Coding Tasks (write Java in code blocks; pseudo-Java acceptable)\n",
        "1) Write three overloads of `abs`: `int abs(int x)`, `double abs(double x)`, and `long abs(long x)`.\n",
        "2) Implement two overloads of `concat`:\n",
        "   - `String concat(String a, String b)` returns concatenation.\n",
        "   - `String concat(String a, int n)` returns `a` repeated `n` times.\n",
        "3) Determine output:\n",
        "```java\n",
        "static void show(int x) { System.out.println(\"int\"); }\n",
        "static void show(double x) { System.out.println(\"double\"); }\n",
        "static void show(long x) { System.out.println(\"long\"); }\n",
        "\n",
        "show(7);\n",
        "show(7L);\n",
        "show(7.0);\n",
        "```\n",
        "Write the expected output and a one-line explanation for each.\n"
      ]
    },
    {
      "cell_type": "markdown",
      "metadata": {},
      "source": [
        "### Homework Answer: \n",
        "\n",
        "1. \n",
        "```java\n",
        "public static int abs(int x) {\n",
        "    return (x >= 0) ? x : -x;\n",
        "}\n",
        "public static double abs(double x) {\n",
        "    return (x >= 0) ? x : -x;\n",
        "}\n",
        "public static long abs(long x) {\n",
        "    return (x >= 0) ? x : -x;\n",
        "}\n",
        "```\n",
        "\n",
        "2. \n",
        "\n",
        "```java\n",
        "public static String concat(String a, String b) {\n",
        "    return a + b;\n",
        "}\n",
        "public static String concat(String a, int n) {\n",
        "    if (n <= 0) return \"\";\n",
        "    StringBuilder sb = new StringBuilder(a.length() * n);\n",
        "    for (int i = 0; i < n; i++) sb.append(a);\n",
        "    return sb.toString();\n",
        "}\n",
        "```\n",
        "3. \n",
        "First output would be \"int\" because 7 is an integer, not a double.\n",
        "Second output would be \"long\" because 7L is a long literal value.\n",
        "Third output would be \"double\" because 7.0 has a decimal place, indicating that it is a double. "
      ]
    },
    {
      "cell_type": "markdown",
      "metadata": {},
      "source": [
        "### FRQ-style\n",
        "- FRQ 1. `indexOf(char target, String s)`: return the index of first `target` in `s` or `-1` if not found. Overload with `indexOf(String target, String s)` for first substring occurrence (without using library indexOf). State assumptions and constraints.\n",
        "- FRQ 2. Overload `clamp`:\n",
        "  - `int clamp(int value, int low, int high)` returns `value` confined to `[low, high]`.\n",
        "  - `double clamp(double value, double low, double high)` similarly for doubles.\n",
        "  Handle the case `low > high` by swapping.\n"
      ]
    },
    {
      "cell_type": "markdown",
      "metadata": {},
      "source": [
        "## Homework Submission\n",
        "\n",
        "Question 1:\n",
        "\n",
        "```java\n",
        "public class QuestionOne {\n",
        "\n",
        "    public static int indexOf(char target, String s) {\n",
        "        for (int i = 0; i < s.length(); i++) {\n",
        "            if (s.charAt(i) == target) return i;\n",
        "        }\n",
        "        return -1;\n",
        "    }\n",
        "    public static int indexOf(String target, String s) {\n",
        "        if (target.length() == 0) return 0;\n",
        "        if (target.length() > s.length()) return -1;\n",
        "        for (int i = 0; i <= s.length() - target.length(); i++) {\n",
        "            int j = 0;\n",
        "            while (j < target.length() && s.charAt(i + j) == target.charAt(j)) j++;\n",
        "            if (j == target.length()) return i;\n",
        "        }\n",
        "        return -1;\n",
        "    }\n",
        "}\n",
        "```\n",
        "\n",
        "Question 2:\n",
        "\n",
        "```java\n",
        "\n",
        "public class QuestionTwo {\n",
        "    public static int clamp(int value, int low, int high) {\n",
        "        if (low > high) { int t = low; low = high; high = t; }\n",
        "        if (value < low) return low;\n",
        "        if (value > high) return high;\n",
        "        return value;\n",
        "    }\n",
        "\n",
        "    public static double clamp(double value, double low, double high) {\n",
        "        if (low > high) { double t = low; low = high; high = t; }\n",
        "        if (value < low) return low;\n",
        "        if (value > high) return high;\n",
        "        return value;\n",
        "    }\n",
        "\n",
        "    public static void main(String[] args) {\n",
        "        System.out.println(indexOf('a', \"banana\"));    // 1\n",
        "        System.out.println(indexOf(\"ana\", \"banana\"));  // 1\n",
        "        System.out.println(indexOf(\"xyz\", \"banana\"));  // -1\n",
        "\n",
        "        System.out.println(clamp(7, 0, 5));            // 5\n",
        "        System.out.println(clamp(3, 0, 5));            // 3\n",
        "        System.out.println(clamp(3, 5, 0));            // 3\n",
        "        System.out.println(clamp(7.5, 0.0, 5.0));      // 5.0\n",
        "    }\n",
        "}"
      ]
    },
    {
      "cell_type": "markdown",
      "metadata": {},
      "source": [
        "### Submission checklist\n",
        "- MCQs completed on the Google Form.\n",
        "- This notebook executes top-to-bottom with outputs visible.\n",
        "- Answers are clear and concise.\n"
      ]
    },
    {
      "cell_type": "markdown",
      "metadata": {},
      "source": []
    }
  ],
  "metadata": {
    "kernelspec": {
      "display_name": "java (JJava/j!)",
      "language": "java",
      "name": "jbang-jjava"
    },
    "language_info": {
      "codemirror_mode": "java",
      "file_extension": ".jshell",
      "mimetype": "text/x-java-source",
      "name": "Java",
      "pygments_lexer": "java",
      "version": "21.0.8+9-Ubuntu-0ubuntu124.04.1"
    }
  },
  "nbformat": 4,
  "nbformat_minor": 2
}
