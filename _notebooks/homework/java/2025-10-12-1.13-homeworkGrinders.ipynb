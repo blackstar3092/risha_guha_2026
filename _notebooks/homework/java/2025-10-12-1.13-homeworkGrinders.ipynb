{
 "cells": [
  {
   "cell_type": "raw",
   "id": "354709c5",
   "metadata": {
    "vscode": {
     "languageId": "raw"
    }
   },
   "source": [
    "---\n",
    "layout: post\n",
    "toc: true\n",
    "title: Object Creation and Storage (Instantiation)\n",
    "permalink: /csa/unit_01/1_13/homework\n",
    "authors: Nora, Soni, Avika\n",
    "---"
   ]
  },
  {
   "cell_type": "code",
   "execution_count": null,
   "id": "4fa4bd60",
   "metadata": {
    "vscode": {
     "languageId": "java"
    }
   },
   "outputs": [],
   "source": [
    "// Homework Hack #1: Object Creation Practice\n",
    "\n",
    "public class ObjectCreation {\n",
    "    public static void main(String[] args) {\n",
    "        // 1. Create two Car objects using 'new'\n",
    "        Car car1 = new Car(\"Tesla\", 2024);\n",
    "        Car car2 = new Car(\"Toyota\", 2015);\n",
    "\n",
    "        // 2. Print each car's info\n",
    "        System.out.println(car1);\n",
    "        System.out.println(car2);\n",
    "\n",
    "        // (Optional) call another method\n",
    "        car1.honk();\n",
    "        car2.honk();\n",
    "    }\n",
    "}\n",
    "\n",
    "class Car {\n",
    "    // 1. Declare variables: brand, year\n",
    "    private String brand;\n",
    "    private int year;\n",
    "\n",
    "    // 2. Create a constructor to set those variables\n",
    "    public Car(String brand, int year) {\n",
    "        this.brand = brand;\n",
    "        this.year = year;\n",
    "    }\n",
    "\n",
    "    // 3. Add a method or toString() to display car info\n",
    "    @Override\n",
    "    public String toString() {\n",
    "        return \"Car{brand='\" + brand + \"', year=\" + year + \"}\";\n",
    "    }\n",
    "\n",
    "    // Extra method (optional)\n",
    "    public void honk() {\n",
    "        System.out.println(brand + \" (\" + year + \") says: Beep!\");\n",
    "    }\n",
    "}\n"
   ]
  },
  {
   "cell_type": "markdown",
   "id": "5dfeb6ec",
   "metadata": {},
   "source": [
    "## Homework Hack #2 — Heap vs Stack Storage Demo\n",
    "\n",
    "**Goal** - Understand where data is stored in memory — stack vs heap.\n",
    "<br>\n",
    "Instructions:\n",
    "- Create a Book class with one variable: String title.\n",
    "- In main(), create:\n",
    "- A primitive variable (e.g. int pages = 300;)\n",
    "- A Book object (e.g. Book b1 = new Book(\"Java Basics\");)\n",
    "- Copy both into new variables (int pagesCopy = pages;, Book b2 = b1;)\n",
    "<br>\n",
    "Change the original values and print everything — watch what changes."
   ]
  },
  {
   "cell_type": "code",
   "execution_count": null,
   "id": "87b5929f",
   "metadata": {
    "vscode": {
     "languageId": "java"
    }
   },
   "outputs": [],
   "source": [
    "// Homework Hack #2: Heap vs Stack Storage Demo\n",
    "\n",
    "public class HeapVsStack {\n",
    "    public static void main(String[] args) {\n",
    "        // 1. Create a primitive variable (int pages)\n",
    "        int pages = 300;\n",
    "\n",
    "        // 2. Create another primitive variable that copies it\n",
    "        int pagesCopy = pages;\n",
    "\n",
    "        // 3. Create a Book object\n",
    "        Book b1 = new Book(\"Java Basics\");\n",
    "\n",
    "        // 4. Create another Book reference that points to the same object\n",
    "        Book b2 = b1;\n",
    "\n",
    "        // 5. Change the original primitive and the Book title\n",
    "        pages = 450;                 // changes ONLY 'pages', not 'pagesCopy'\n",
    "        b1.setTitle(\"Advanced Java\"); // mutates the single Book object on the heap\n",
    "\n",
    "        // 6. Print both sets of values to compare behavior\n",
    "        System.out.println(\"Primitives (copied by value):\");\n",
    "        System.out.println(\"pages: \" + pages);         // 450\n",
    "        System.out.println(\"pagesCopy: \" + pagesCopy); // 300\n",
    "\n",
    "        System.out.println(\"\\nObject references (aliases to same heap object):\");\n",
    "        System.out.println(\"b1: \" + b1);\n",
    "        System.out.println(\"b2: \" + b2);\n",
    "\n",
    "        // Show they are the same object\n",
    "        System.out.println(\"\\nAre b1 and b2 the same object? \" + (b1 == b2));\n",
    "    }\n",
    "}\n",
    "\n",
    "class Book {\n",
    "    // 1. Declare variable: String title\n",
    "    private String title;\n",
    "\n",
    "    // 2. Create a constructor to set the title\n",
    "    public Book(String title) {\n",
    "        this.title = title;\n",
    "    }\n",
    "\n",
    "    // Mutator to change title (so we can demonstrate shared reference changes)\n",
    "    public void setTitle(String newTitle) {\n",
    "        this.title = newTitle;\n",
    "    }\n",
    "\n",
    "    // 3. Create a toString() to show the title\n",
    "    @Override\n",
    "    public String toString() {\n",
    "        return \"Book{title='\" + title + \"'}\";\n",
    "    }\n",
    "}\n"
   ]
  }
 ],
 "metadata": {
  "kernelspec": {
   "display_name": "venv (3.12.5)",
   "language": "python",
   "name": "python3"
  },
  "language_info": {
   "codemirror_mode": {
    "name": "ipython",
    "version": 3
   },
   "file_extension": ".py",
   "mimetype": "text/x-python",
   "name": "python",
   "nbconvert_exporter": "python",
   "pygments_lexer": "ipython3",
   "version": "3.12.5"
  }
 },
 "nbformat": 4,
 "nbformat_minor": 5
}
